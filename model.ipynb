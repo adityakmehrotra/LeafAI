{
 "cells": [
  {
   "cell_type": "code",
   "execution_count": 1,
   "metadata": {},
   "outputs": [
    {
     "ename": "ModuleNotFoundError",
     "evalue": "No module named 'cv2'",
     "output_type": "error",
     "traceback": [
      "\u001b[0;31m---------------------------------------------------------------------------\u001b[0m",
      "\u001b[0;31mModuleNotFoundError\u001b[0m                       Traceback (most recent call last)",
      "Cell \u001b[0;32mIn[1], line 3\u001b[0m\n\u001b[1;32m      1\u001b[0m \u001b[38;5;28;01mimport\u001b[39;00m \u001b[38;5;21;01mos\u001b[39;00m\n\u001b[1;32m      2\u001b[0m \u001b[38;5;28;01mimport\u001b[39;00m \u001b[38;5;21;01mglob\u001b[39;00m\n\u001b[0;32m----> 3\u001b[0m \u001b[38;5;28;01mimport\u001b[39;00m \u001b[38;5;21;01mcv2\u001b[39;00m\n\u001b[1;32m      4\u001b[0m \u001b[38;5;28;01mimport\u001b[39;00m \u001b[38;5;21;01mimghdr\u001b[39;00m\n\u001b[1;32m      5\u001b[0m \u001b[38;5;28;01mimport\u001b[39;00m \u001b[38;5;21;01mtensorflow\u001b[39;00m \u001b[38;5;28;01mas\u001b[39;00m \u001b[38;5;21;01mtf\u001b[39;00m\n",
      "\u001b[0;31mModuleNotFoundError\u001b[0m: No module named 'cv2'"
     ]
    }
   ],
   "source": [
    "import os\n",
    "import glob\n",
    "import cv2\n",
    "import imghdr\n",
    "import tensorflow as tf\n",
    "import numpy as np\n",
    "from matplotlib import pyplot as plt\n",
    "\n",
    "from tensorflow.keras.models import Sequential\n",
    "from tensorflow.keras.layers import Conv2D, MaxPooling2D, Dense, Flatten, Dropout\n",
    "from tensorflow.keras.metrics import Precision, Recall, BinaryAccuracy\n",
    "from tensorflow.keras.models import load_model"
   ]
  },
  {
   "cell_type": "code",
   "execution_count": 12,
   "metadata": {},
   "outputs": [],
   "source": [
    "# Limit the VRAM that Tensor Flow can use on my GPU. \n",
    "# This avoids any potential OOM (Out of Memory) errors through setting the GPU Memory Consumption Growth.\n",
    "gpus = tf.config.experimental.list_physical_devices('GPU')\n",
    "for gpu in gpus: \n",
    "    tf.config.experimental.set_memory_growth(gpu, True)"
   ]
  },
  {
   "cell_type": "code",
   "execution_count": 13,
   "metadata": {},
   "outputs": [],
   "source": [
    "data_dir = 'data'"
   ]
  },
  {
   "cell_type": "code",
   "execution_count": 14,
   "metadata": {},
   "outputs": [],
   "source": [
    "image_exts = ['jpeg', 'tiff']"
   ]
  },
  {
   "cell_type": "code",
   "execution_count": 15,
   "metadata": {},
   "outputs": [],
   "source": [
    "for image_class in os.listdir(data_dir): \n",
    "    if (image_class != '.DS_Store'):\n",
    "        for image in os.listdir(os.path.join(data_dir, image_class)):\n",
    "            image_path = os.path.join(data_dir, image_class, image)\n",
    "            try: \n",
    "                img = cv2.imread(image_path)\n",
    "                tip = imghdr.what(image_path)\n",
    "                if tip not in image_exts: \n",
    "                    print('Image not in ext list {}'.format(image_path))\n",
    "                    os.remove(image_path)\n",
    "            except Exception as e: \n",
    "                print('Issue with image {}'.format(image_path))\n",
    "                # os.remove(image_path)"
   ]
  },
  {
   "cell_type": "code",
   "execution_count": 16,
   "metadata": {},
   "outputs": [
    {
     "name": "stdout",
     "output_type": "stream",
     "text": [
      "Found 370 files belonging to 34 classes.\n"
     ]
    }
   ],
   "source": [
    "data = tf.keras.utils.image_dataset_from_directory('data')"
   ]
  },
  {
   "cell_type": "code",
   "execution_count": 17,
   "metadata": {},
   "outputs": [],
   "source": [
    "data_iterator = data.as_numpy_iterator()"
   ]
  },
  {
   "cell_type": "code",
   "execution_count": 18,
   "metadata": {},
   "outputs": [
    {
     "data": {
      "text/plain": [
       "(32, 256, 256, 3)"
      ]
     },
     "execution_count": 18,
     "metadata": {},
     "output_type": "execute_result"
    }
   ],
   "source": [
    "batch = data_iterator.next()\n",
    "batch[0].shape"
   ]
  },
  {
   "cell_type": "code",
   "execution_count": 19,
   "metadata": {},
   "outputs": [
    {
     "data": {
      "text/plain": [
       "<_MapDataset element_spec=(TensorSpec(shape=(None, 256, 256, 3), dtype=tf.float32, name=None), TensorSpec(shape=(None,), dtype=tf.int32, name=None))>"
      ]
     },
     "execution_count": 19,
     "metadata": {},
     "output_type": "execute_result"
    }
   ],
   "source": [
    "data = data.map(lambda x,y: (x/255, y))\n",
    "data"
   ]
  },
  {
   "cell_type": "code",
   "execution_count": 20,
   "metadata": {},
   "outputs": [
    {
     "data": {
      "text/plain": [
       "(array([[[[0.99163604, 0.46614584, 0.56026345],\n",
       "          [0.99607843, 0.47058824, 0.5647059 ],\n",
       "          [0.9973805 , 0.47189033, 0.56992954],\n",
       "          ...,\n",
       "          [0.9909314 , 0.53995097, 0.6693627 ],\n",
       "          [0.99682903, 0.5401501 , 0.67242646],\n",
       "          [0.99963236, 0.5368872 , 0.6702206 ]],\n",
       " \n",
       "         [[0.9917892 , 0.46629903, 0.56041664],\n",
       "          [0.9996477 , 0.47415748, 0.5686275 ],\n",
       "          [1.        , 0.48653492, 0.58457416],\n",
       "          ...,\n",
       "          [1.        , 0.5577053 , 0.68711704],\n",
       "          [0.99682903, 0.54584867, 0.6752604 ],\n",
       "          [0.9964001 , 0.54541975, 0.6748315 ]],\n",
       " \n",
       "         [[0.99240196, 0.46691176, 0.56102943],\n",
       "          [0.9844516 , 0.4589614 , 0.55589765],\n",
       "          [0.9892157 , 0.46372548, 0.5617647 ],\n",
       "          ...,\n",
       "          [0.98483455, 0.5338542 , 0.66326594],\n",
       "          [1.        , 0.5512255 , 0.68063724],\n",
       "          [0.9961244 , 0.545144  , 0.6745558 ]],\n",
       " \n",
       "         ...,\n",
       " \n",
       "         [[0.8226869 , 0.23053002, 0.35209864],\n",
       "          [0.82758886, 0.23543198, 0.35700062],\n",
       "          [0.8352022 , 0.24304534, 0.36461398],\n",
       "          ...,\n",
       "          [0.9503523 , 0.36996016, 0.47192097],\n",
       "          [0.9528033 , 0.37241116, 0.47437194],\n",
       "          [0.9412224 , 0.36083028, 0.46279106]],\n",
       " \n",
       "         [[0.8316483 , 0.23949142, 0.36106005],\n",
       "          [0.8322457 , 0.24008885, 0.36165747],\n",
       "          [0.8421722 , 0.25001532, 0.37158394],\n",
       "          ...,\n",
       "          [0.94402575, 0.36363357, 0.46559435],\n",
       "          [0.958318  , 0.37792584, 0.47988665],\n",
       "          [0.97205883, 0.39166668, 0.49362746]],\n",
       " \n",
       "         [[0.8344976 , 0.24234068, 0.3639093 ],\n",
       "          [0.82898283, 0.23682599, 0.3583946 ],\n",
       "          [0.8307445 , 0.23858762, 0.36015624],\n",
       "          ...,\n",
       "          [0.9481618 , 0.3677696 , 0.4697304 ],\n",
       "          [0.957644  , 0.37725183, 0.4792126 ],\n",
       "          [0.9584252 , 0.3780331 , 0.47999388]]],\n",
       " \n",
       " \n",
       "        [[[0.9964461 , 0.5620711 , 0.7306985 ],\n",
       "          [0.9901654 , 0.5548713 , 0.72173715],\n",
       "          [0.9820772 , 0.5467831 , 0.71148896],\n",
       "          ...,\n",
       "          [0.5942402 , 0.19031863, 0.36678922],\n",
       "          [0.60580575, 0.2018842 , 0.37051165],\n",
       "          [0.617356  , 0.21343444, 0.3820619 ]],\n",
       " \n",
       "         [[0.9999081 , 0.572932  , 0.74155945],\n",
       "          [0.9942249 , 0.561826  , 0.73045343],\n",
       "          [0.99048716, 0.555193  , 0.72382045],\n",
       "          ...,\n",
       "          [0.6177696 , 0.21384804, 0.39031863],\n",
       "          [0.63065255, 0.226731  , 0.39535844],\n",
       "          [0.61371017, 0.2097886 , 0.37841606]],\n",
       " \n",
       "         [[1.        , 0.5681372 , 0.7367647 ],\n",
       "          [1.        , 0.5714154 , 0.74004287],\n",
       "          [0.9915288 , 0.55646443, 0.72509193],\n",
       "          ...,\n",
       "          [0.63244486, 0.21675858, 0.39715073],\n",
       "          [0.6202053 , 0.20844056, 0.377068  ],\n",
       "          [0.60036767, 0.18860294, 0.3572304 ]],\n",
       " \n",
       "         ...,\n",
       " \n",
       "         [[0.9843597 , 0.4823989 , 0.6118107 ],\n",
       "          [0.9904412 , 0.4884804 , 0.61789215],\n",
       "          [0.9775735 , 0.47561276, 0.6050245 ],\n",
       "          ...,\n",
       "          [0.72576594, 0.24341299, 0.35713848],\n",
       "          [0.74675244, 0.2643995 , 0.378125  ],\n",
       "          [0.75424325, 0.2718903 , 0.3856158 ]],\n",
       " \n",
       "         [[0.9974724 , 0.49551165, 0.6249234 ],\n",
       "          [0.9894301 , 0.4906403 , 0.6200521 ],\n",
       "          [0.98342526, 0.48146448, 0.6108762 ],\n",
       "          ...,\n",
       "          [0.73584557, 0.25349265, 0.36721814],\n",
       "          [0.74534315, 0.2629902 , 0.37314644],\n",
       "          [0.7480392 , 0.26568627, 0.3754902 ]],\n",
       " \n",
       "         [[0.9795343 , 0.47757354, 0.6069853 ],\n",
       "          [0.9860294 , 0.48406863, 0.6134804 ],\n",
       "          [0.97593445, 0.47397366, 0.6033854 ],\n",
       "          ...,\n",
       "          [0.7569087 , 0.27455577, 0.3843597 ],\n",
       "          [0.74594057, 0.26358762, 0.37339154],\n",
       "          [0.73417586, 0.25182292, 0.36162683]]],\n",
       " \n",
       " \n",
       "        [[[0.9594363 , 0.45747548, 0.5947304 ],\n",
       "          [0.94511336, 0.45160845, 0.5860447 ],\n",
       "          [0.9310815 , 0.44088542, 0.57421875],\n",
       "          ...,\n",
       "          [0.9632813 , 0.49661458, 0.6534773 ],\n",
       "          [0.9731158 , 0.50644916, 0.6633119 ],\n",
       "          [0.9695159 , 0.5028493 , 0.659712  ]],\n",
       " \n",
       "         [[0.94208026, 0.44011948, 0.5773744 ],\n",
       "          [0.9469669 , 0.453462  , 0.5878983 ],\n",
       "          [0.9480699 , 0.45787376, 0.5912071 ],\n",
       "          ...,\n",
       "          [0.9668199 , 0.5001532 , 0.6570159 ],\n",
       "          [0.9665594 , 0.49989277, 0.6567555 ],\n",
       "          [0.97921264, 0.51254594, 0.6694087 ]],\n",
       " \n",
       "         [[0.9324755 , 0.44620097, 0.5795343 ],\n",
       "          [0.9257506 , 0.4394761 , 0.57280946],\n",
       "          [0.9414369 , 0.45516238, 0.58849573],\n",
       "          ...,\n",
       "          [0.97280943, 0.5061428 , 0.66300553],\n",
       "          [0.9718444 , 0.5051777 , 0.6620404 ],\n",
       "          [0.97250307, 0.50583637, 0.66269916]],\n",
       " \n",
       "         ...,\n",
       " \n",
       "         [[0.8212929 , 0.2801164 , 0.4095282 ],\n",
       "          [0.82824755, 0.28707108, 0.41648284],\n",
       "          [0.80683213, 0.26565564, 0.3950674 ],\n",
       "          ...,\n",
       "          [0.8341759 , 0.3165288 , 0.46946996],\n",
       "          [0.83126533, 0.31361827, 0.46655944],\n",
       "          [0.8379596 , 0.3203125 , 0.47325367]],\n",
       " \n",
       "         [[0.80629593, 0.2768842 , 0.4023744 ],\n",
       "          [0.82428   , 0.28599876, 0.41444546],\n",
       "          [0.8111673 , 0.2699908 , 0.39940256],\n",
       "          ...,\n",
       "          [0.84076285, 0.33095893, 0.47997856],\n",
       "          [0.8366728 , 0.32686886, 0.4758885 ],\n",
       "          [0.84420955, 0.33440563, 0.48342526]],\n",
       " \n",
       "         [[0.8288909 , 0.3073223 , 0.42889094],\n",
       "          [0.8221507 , 0.29411766, 0.4189185 ],\n",
       "          [0.81063116, 0.26945466, 0.39886642],\n",
       "          ...,\n",
       "          [0.83095896, 0.3240962 , 0.46380207],\n",
       "          [0.83566177, 0.328799  , 0.4685049 ],\n",
       "          [0.82051164, 0.3136489 , 0.45335478]]],\n",
       " \n",
       " \n",
       "        ...,\n",
       " \n",
       " \n",
       "        [[[1.        , 0.49618566, 0.64520526],\n",
       "          [1.        , 0.49453124, 0.6435509 ],\n",
       "          [0.9939951 , 0.48811275, 0.63713235],\n",
       "          ...,\n",
       "          [0.99215686, 0.54901963, 0.7294118 ],\n",
       "          [0.9902727 , 0.5471354 , 0.72752756],\n",
       "          [0.9906863 , 0.547549  , 0.72794116]],\n",
       " \n",
       "         [[0.9961244 , 0.49024203, 0.64318323],\n",
       "          [0.99718136, 0.49129903, 0.6442402 ],\n",
       "          [0.9981771 , 0.49229473, 0.6452359 ],\n",
       "          ...,\n",
       "          [0.9832261 , 0.53861827, 0.7195006 ],\n",
       "          [0.9824755 , 0.53786767, 0.71875   ],\n",
       "          [0.98877144, 0.5441636 , 0.725046  ]],\n",
       " \n",
       "         [[0.995144  , 0.50102633, 0.64612436],\n",
       "          [0.9952359 , 0.50111824, 0.6462163 ],\n",
       "          [0.99607843, 0.5019608 , 0.64705884],\n",
       "          ...,\n",
       "          [0.99264705, 0.5377451 , 0.72205883],\n",
       "          [0.9932598 , 0.53835785, 0.72267157],\n",
       "          [0.99946386, 0.54456186, 0.72887564]],\n",
       " \n",
       "         ...,\n",
       " \n",
       "         [[0.8487592 , 0.29189643, 0.44091606],\n",
       "          [0.85539216, 0.29852942, 0.44754902],\n",
       "          [0.86066175, 0.30379903, 0.45281863],\n",
       "          ...,\n",
       "          [0.9675245 , 0.42242646, 0.58321077],\n",
       "          [0.9700827 , 0.4249847 , 0.585769  ],\n",
       "          [0.9834559 , 0.43835783, 0.59914213]],\n",
       " \n",
       "         [[0.83982843, 0.29767156, 0.43933824],\n",
       "          [0.8581036 , 0.30908394, 0.454182  ],\n",
       "          [0.86227024, 0.3132506 , 0.45834866],\n",
       "          ...,\n",
       "          [0.96813726, 0.42303923, 0.5838235 ],\n",
       "          [0.9801164 , 0.4350184 , 0.5958027 ],\n",
       "          [0.9784007 , 0.4333027 , 0.594087  ]],\n",
       " \n",
       "         [[0.8392157 , 0.29803923, 0.4392157 ],\n",
       "          [0.85269606, 0.3115196 , 0.45269608],\n",
       "          [0.8532322 , 0.30421263, 0.44931066],\n",
       "          ...,\n",
       "          [0.9691636 , 0.42406556, 0.5848499 ],\n",
       "          [0.97863054, 0.43353248, 0.5943168 ],\n",
       "          [0.97130823, 0.42621017, 0.58699447]]],\n",
       " \n",
       " \n",
       "        [[[0.9888327 , 0.49863663, 0.7653033 ],\n",
       "          [0.99215686, 0.5019608 , 0.76862746],\n",
       "          [0.98929226, 0.4990962 , 0.76576287],\n",
       "          ...,\n",
       "          [0.9954657 , 0.5640931 , 0.85036767],\n",
       "          [0.9932598 , 0.57365197, 0.8560049 ],\n",
       "          [0.9980699 , 0.5830729 , 0.86519605]],\n",
       " \n",
       "         [[0.99264705, 0.502451  , 0.76911765],\n",
       "          [0.9936121 , 0.50341606, 0.7700827 ],\n",
       "          [0.9847886 , 0.49459252, 0.7612592 ],\n",
       "          ...,\n",
       "          [1.        , 0.5686275 , 0.85490197],\n",
       "          [0.99313724, 0.57254905, 0.85539216],\n",
       "          [0.9852941 , 0.56421566, 0.84705883]],\n",
       " \n",
       "         [[0.98828125, 0.49808517, 0.76475185],\n",
       "          [0.99643075, 0.5062347 , 0.77290136],\n",
       "          [0.99791664, 0.50795037, 0.774617  ],\n",
       "          ...,\n",
       "          [0.9926624 , 0.56128985, 0.84756434],\n",
       "          [0.9975337 , 0.5664369 , 0.8527114 ],\n",
       "          [0.996201  , 0.56482846, 0.85110295]],\n",
       " \n",
       "         ...,\n",
       " \n",
       "         [[0.82751226, 0.3098652 , 0.53339463],\n",
       "          [0.8369332 , 0.31928614, 0.54281557],\n",
       "          [0.8374234 , 0.31977636, 0.54330575],\n",
       "          ...,\n",
       "          [0.96871936, 0.45499387, 0.7138174 ],\n",
       "          [0.97634804, 0.46262255, 0.72365195],\n",
       "          [0.96122855, 0.44750306, 0.7063266 ]],\n",
       " \n",
       "         [[0.8383885 , 0.32074142, 0.5442708 ],\n",
       "          [0.8253676 , 0.3077206 , 0.53125   ],\n",
       "          [0.8447304 , 0.32708332, 0.55061275],\n",
       "          ...,\n",
       "          [0.9505974 , 0.43687195, 0.69569546],\n",
       "          [0.95577514, 0.44204962, 0.70307904],\n",
       "          [0.9579657 , 0.44424018, 0.7030637 ]],\n",
       " \n",
       "         [[0.8257353 , 0.30808824, 0.53161764],\n",
       "          [0.8352941 , 0.31764707, 0.5411765 ],\n",
       "          [0.8447304 , 0.32708332, 0.55061275],\n",
       "          ...,\n",
       "          [0.94970894, 0.43598345, 0.694807  ],\n",
       "          [0.9507659 , 0.43704045, 0.6980699 ],\n",
       "          [0.953462  , 0.43973652, 0.69856006]]],\n",
       " \n",
       " \n",
       "        [[[0.93344057, 0.44716606, 0.65108764],\n",
       "          [0.9492494 , 0.46297488, 0.66689646],\n",
       "          [0.91973037, 0.43345588, 0.630913  ],\n",
       "          ...,\n",
       "          [0.9890931 , 0.5224265 , 0.74987745],\n",
       "          [0.9756434 , 0.5089767 , 0.7364277 ],\n",
       "          [0.9751379 , 0.5084712 , 0.73592216]],\n",
       " \n",
       "         [[0.9232996 , 0.43702513, 0.63310355],\n",
       "          [0.928125  , 0.44185048, 0.6379289 ],\n",
       "          [0.91600794, 0.42973346, 0.633655  ],\n",
       "          ...,\n",
       "          [0.9690104 , 0.5023438 , 0.72979474],\n",
       "          [0.9765625 , 0.50989586, 0.7373468 ],\n",
       "          [0.98779106, 0.52112436, 0.7485754 ]],\n",
       " \n",
       "         [[0.92637867, 0.44010416, 0.6361826 ],\n",
       "          [0.93258274, 0.44630823, 0.6423866 ],\n",
       "          [0.9191942 , 0.43291974, 0.6368413 ],\n",
       "          ...,\n",
       "          [0.97256434, 0.50981927, 0.73727024],\n",
       "          [0.97132355, 0.5085784 , 0.7360294 ],\n",
       "          [0.98468137, 0.5219363 , 0.74938726]],\n",
       " \n",
       "         ...,\n",
       " \n",
       "         [[0.82792586, 0.30243567, 0.4985141 ],\n",
       "          [0.84791666, 0.32242647, 0.5185049 ],\n",
       "          [0.8047028 , 0.27921262, 0.47529104],\n",
       "          ...,\n",
       "          [0.9132506 , 0.39952514, 0.6112898 ],\n",
       "          [0.9115349 , 0.39388788, 0.6174173 ],\n",
       "          [0.8974571 , 0.37981004, 0.60333943]],\n",
       " \n",
       "         [[0.8045037 , 0.28685662, 0.47901347],\n",
       "          [0.8110141 , 0.29336703, 0.4855239 ],\n",
       "          [0.81136644, 0.29371935, 0.48587623],\n",
       "          ...,\n",
       "          [0.9022059 , 0.3884804 , 0.6002451 ],\n",
       "          [0.8856771 , 0.36803   , 0.5915594 ],\n",
       "          [0.89840686, 0.3807598 , 0.60428923]],\n",
       " \n",
       "         [[0.8244485 , 0.31170344, 0.49650735],\n",
       "          [0.8110754 , 0.29833028, 0.48313418],\n",
       "          [0.80044425, 0.28769913, 0.47250307],\n",
       "          ...,\n",
       "          [0.89149815, 0.37777266, 0.5895374 ],\n",
       "          [0.8960784 , 0.37843138, 0.6019608 ],\n",
       "          [0.89730394, 0.37965685, 0.60318625]]]], dtype=float32),\n",
       " array([20, 21,  1,  3, 12, 19, 16, 21, 27,  7,  9,  8, 33, 30, 17,  1, 10,\n",
       "        19, 19,  3, 20, 11, 12, 13, 12, 30, 28,  5, 25, 12, 15, 30],\n",
       "       dtype=int32))"
      ]
     },
     "execution_count": 20,
     "metadata": {},
     "output_type": "execute_result"
    }
   ],
   "source": [
    "data.as_numpy_iterator().next()"
   ]
  },
  {
   "cell_type": "code",
   "execution_count": 21,
   "metadata": {},
   "outputs": [],
   "source": [
    "train_size = int(len(data)*.6)\n",
    "val_size = int(len(data)*.25)\n",
    "test_size = int(len(data)*.15)"
   ]
  },
  {
   "cell_type": "code",
   "execution_count": 22,
   "metadata": {},
   "outputs": [
    {
     "data": {
      "text/plain": [
       "3"
      ]
     },
     "execution_count": 22,
     "metadata": {},
     "output_type": "execute_result"
    }
   ],
   "source": [
    "val_size"
   ]
  },
  {
   "cell_type": "code",
   "execution_count": 23,
   "metadata": {},
   "outputs": [],
   "source": [
    "train = data.take(train_size)\n",
    "val = data.skip(train_size).take(val_size)\n",
    "test = data.skip(train_size+val_size).take(test_size)"
   ]
  },
  {
   "cell_type": "code",
   "execution_count": 24,
   "metadata": {},
   "outputs": [
    {
     "data": {
      "text/plain": [
       "<_TakeDataset element_spec=(TensorSpec(shape=(None, 256, 256, 3), dtype=tf.float32, name=None), TensorSpec(shape=(None,), dtype=tf.int32, name=None))>"
      ]
     },
     "execution_count": 24,
     "metadata": {},
     "output_type": "execute_result"
    }
   ],
   "source": [
    "train"
   ]
  },
  {
   "cell_type": "code",
   "execution_count": 25,
   "metadata": {},
   "outputs": [],
   "source": [
    "def encode_one_hot(image, label):\n",
    "    label = tf.one_hot(label, depth=34)\n",
    "    return image, label\n",
    "\n",
    "train = train.map(encode_one_hot)\n",
    "val = val.map(encode_one_hot)"
   ]
  },
  {
   "cell_type": "code",
   "execution_count": null,
   "metadata": {},
   "outputs": [],
   "source": []
  },
  {
   "cell_type": "code",
   "execution_count": 26,
   "metadata": {},
   "outputs": [],
   "source": [
    "model = Sequential()"
   ]
  },
  {
   "cell_type": "code",
   "execution_count": 27,
   "metadata": {},
   "outputs": [],
   "source": [
    "model.add(Conv2D(16, (3,3), 1, activation='relu', input_shape=(256,256,3)))\n",
    "model.add(MaxPooling2D())\n",
    "model.add(Conv2D(32, (3,3), 1, activation='relu'))\n",
    "model.add(MaxPooling2D())\n",
    "model.add(Conv2D(16, (3,3), 1, activation='relu'))\n",
    "model.add(MaxPooling2D())\n",
    "model.add(Flatten())\n",
    "model.add(Dense(256, activation='relu'))\n",
    "model.add(Dense(34, activation='sigmoid'))"
   ]
  },
  {
   "cell_type": "code",
   "execution_count": 28,
   "metadata": {},
   "outputs": [],
   "source": [
    "model.compile('adam', loss='categorical_crossentropy', metrics=['accuracy', 'Precision', 'Recall'])"
   ]
  },
  {
   "cell_type": "code",
   "execution_count": 29,
   "metadata": {},
   "outputs": [
    {
     "name": "stdout",
     "output_type": "stream",
     "text": [
      "Model: \"sequential\"\n",
      "_________________________________________________________________\n",
      " Layer (type)                Output Shape              Param #   \n",
      "=================================================================\n",
      " conv2d (Conv2D)             (None, 254, 254, 16)      448       \n",
      "                                                                 \n",
      " max_pooling2d (MaxPooling2  (None, 127, 127, 16)      0         \n",
      " D)                                                              \n",
      "                                                                 \n",
      " conv2d_1 (Conv2D)           (None, 125, 125, 32)      4640      \n",
      "                                                                 \n",
      " max_pooling2d_1 (MaxPoolin  (None, 62, 62, 32)        0         \n",
      " g2D)                                                            \n",
      "                                                                 \n",
      " conv2d_2 (Conv2D)           (None, 60, 60, 16)        4624      \n",
      "                                                                 \n",
      " max_pooling2d_2 (MaxPoolin  (None, 30, 30, 16)        0         \n",
      " g2D)                                                            \n",
      "                                                                 \n",
      " flatten (Flatten)           (None, 14400)             0         \n",
      "                                                                 \n",
      " dense (Dense)               (None, 256)               3686656   \n",
      "                                                                 \n",
      " dense_1 (Dense)             (None, 34)                8738      \n",
      "                                                                 \n",
      "=================================================================\n",
      "Total params: 3705106 (14.13 MB)\n",
      "Trainable params: 3705106 (14.13 MB)\n",
      "Non-trainable params: 0 (0.00 Byte)\n",
      "_________________________________________________________________\n"
     ]
    }
   ],
   "source": [
    "model.summary()"
   ]
  },
  {
   "cell_type": "code",
   "execution_count": 30,
   "metadata": {},
   "outputs": [],
   "source": [
    "logdir='logs'"
   ]
  },
  {
   "cell_type": "code",
   "execution_count": 31,
   "metadata": {},
   "outputs": [],
   "source": [
    "tensorboard_callback = tf.keras.callbacks.TensorBoard(log_dir=logdir)"
   ]
  },
  {
   "cell_type": "code",
   "execution_count": 32,
   "metadata": {},
   "outputs": [
    {
     "name": "stdout",
     "output_type": "stream",
     "text": [
      "Epoch 1/15\n",
      "7/7 [==============================] - 2s 273ms/step - loss: 3.5515 - accuracy: 0.0491 - precision: 0.0328 - recall: 0.5714 - val_loss: 3.5076 - val_accuracy: 0.1042 - val_precision: 0.0397 - val_recall: 0.5938\n",
      "Epoch 2/15\n",
      "7/7 [==============================] - 2s 237ms/step - loss: 3.4706 - accuracy: 0.0536 - precision: 0.0395 - recall: 0.6607 - val_loss: 3.4312 - val_accuracy: 0.0625 - val_precision: 0.0366 - val_recall: 0.6562\n",
      "Epoch 3/15\n",
      "7/7 [==============================] - 2s 244ms/step - loss: 3.3161 - accuracy: 0.0893 - precision: 0.0442 - recall: 0.7455 - val_loss: 3.1460 - val_accuracy: 0.1250 - val_precision: 0.0498 - val_recall: 0.7812\n",
      "Epoch 4/15\n",
      "7/7 [==============================] - 2s 248ms/step - loss: 3.0345 - accuracy: 0.2009 - precision: 0.0522 - recall: 0.7991 - val_loss: 2.9175 - val_accuracy: 0.2396 - val_precision: 0.0566 - val_recall: 0.8125\n",
      "Epoch 5/15\n",
      "7/7 [==============================] - 2s 259ms/step - loss: 2.6487 - accuracy: 0.2946 - precision: 0.0571 - recall: 0.8616 - val_loss: 2.6625 - val_accuracy: 0.2917 - val_precision: 0.0531 - val_recall: 0.8333\n",
      "Epoch 6/15\n",
      "7/7 [==============================] - 2s 244ms/step - loss: 2.2912 - accuracy: 0.4062 - precision: 0.0585 - recall: 0.8839 - val_loss: 2.1295 - val_accuracy: 0.4583 - val_precision: 0.0608 - val_recall: 0.9271\n",
      "Epoch 7/15\n",
      "7/7 [==============================] - 2s 264ms/step - loss: 1.7870 - accuracy: 0.5670 - precision: 0.0619 - recall: 0.9643 - val_loss: 1.2079 - val_accuracy: 0.6979 - val_precision: 0.0649 - val_recall: 1.0000\n",
      "Epoch 8/15\n",
      "7/7 [==============================] - 2s 247ms/step - loss: 1.4002 - accuracy: 0.5714 - precision: 0.0676 - recall: 0.9732 - val_loss: 1.0542 - val_accuracy: 0.6667 - val_precision: 0.0758 - val_recall: 1.0000\n",
      "Epoch 9/15\n",
      "7/7 [==============================] - 3s 347ms/step - loss: 1.0670 - accuracy: 0.6295 - precision: 0.0743 - recall: 0.9955 - val_loss: 1.1893 - val_accuracy: 0.6562 - val_precision: 0.0732 - val_recall: 0.9688\n",
      "Epoch 10/15\n",
      "7/7 [==============================] - 2s 250ms/step - loss: 1.0860 - accuracy: 0.6875 - precision: 0.0762 - recall: 0.9866 - val_loss: 0.9150 - val_accuracy: 0.7708 - val_precision: 0.0787 - val_recall: 0.9792\n",
      "Epoch 11/15\n",
      "7/7 [==============================] - 2s 251ms/step - loss: 0.9303 - accuracy: 0.7500 - precision: 0.0776 - recall: 0.9911 - val_loss: 0.6805 - val_accuracy: 0.8021 - val_precision: 0.0764 - val_recall: 1.0000\n",
      "Epoch 12/15\n",
      "7/7 [==============================] - 2s 243ms/step - loss: 0.8030 - accuracy: 0.7366 - precision: 0.0777 - recall: 1.0000 - val_loss: 0.5875 - val_accuracy: 0.8438 - val_precision: 0.0776 - val_recall: 1.0000\n",
      "Epoch 13/15\n",
      "7/7 [==============================] - 2s 281ms/step - loss: 0.5738 - accuracy: 0.8571 - precision: 0.0782 - recall: 0.9955 - val_loss: 0.6523 - val_accuracy: 0.7917 - val_precision: 0.0805 - val_recall: 1.0000\n",
      "Epoch 14/15\n",
      "7/7 [==============================] - 2s 258ms/step - loss: 0.5158 - accuracy: 0.8527 - precision: 0.0811 - recall: 1.0000 - val_loss: 0.4305 - val_accuracy: 0.8750 - val_precision: 0.0784 - val_recall: 1.0000\n",
      "Epoch 15/15\n",
      "7/7 [==============================] - 2s 258ms/step - loss: 0.4765 - accuracy: 0.8929 - precision: 0.0746 - recall: 0.9955 - val_loss: 0.3885 - val_accuracy: 0.8750 - val_precision: 0.0770 - val_recall: 1.0000\n"
     ]
    }
   ],
   "source": [
    "hist = model.fit(train, epochs=15, validation_data=val, callbacks=[tensorboard_callback])"
   ]
  },
  {
   "cell_type": "code",
   "execution_count": 33,
   "metadata": {},
   "outputs": [
    {
     "name": "stdout",
     "output_type": "stream",
     "text": [
      "{'loss': [3.5514767169952393, 3.4705753326416016, 3.3161022663116455, 3.034489870071411, 2.648729085922241, 2.2912216186523438, 1.787023901939392, 1.4002268314361572, 1.0670276880264282, 1.0860384702682495, 0.9303001165390015, 0.8030288815498352, 0.5738444328308105, 0.5158097147941589, 0.47647005319595337], 'accuracy': [0.0491071417927742, 0.0535714291036129, 0.0892857164144516, 0.2008928507566452, 0.2946428656578064, 0.40625, 0.5669642686843872, 0.5714285969734192, 0.6294642686843872, 0.6875, 0.75, 0.7366071343421936, 0.8571428656578064, 0.8526785969734192, 0.8928571343421936], 'precision': [0.03279528394341469, 0.039519358426332474, 0.04420328140258789, 0.052232272922992706, 0.05708370357751846, 0.05845881253480911, 0.06190885603427887, 0.06761786341667175, 0.07425907254219055, 0.07615437358617783, 0.07762237638235092, 0.07772380113601685, 0.07816333323717117, 0.08107130229473114, 0.07463186234235764], 'recall': [0.5714285969734192, 0.6607142686843872, 0.7455357313156128, 0.7991071343421936, 0.8616071343421936, 0.8839285969734192, 0.9642857313156128, 0.9732142686843872, 0.9955357313156128, 0.9866071343421936, 0.9910714030265808, 1.0, 0.9955357313156128, 1.0, 0.9955357313156128], 'val_loss': [3.507603883743286, 3.431248903274536, 3.1459667682647705, 2.9174816608428955, 2.662480592727661, 2.129460334777832, 1.2078627347946167, 1.0541859865188599, 1.1892555952072144, 0.9150106906890869, 0.6804763674736023, 0.5875141620635986, 0.6522992253303528, 0.43053844571113586, 0.38851475715637207], 'val_accuracy': [0.1041666641831398, 0.0625, 0.125, 0.2395833283662796, 0.2916666567325592, 0.4583333432674408, 0.6979166865348816, 0.6666666865348816, 0.65625, 0.7708333134651184, 0.8020833134651184, 0.84375, 0.7916666865348816, 0.875, 0.875], 'val_precision': [0.039693593978881836, 0.03662790730595589, 0.049800798296928406, 0.056603774428367615, 0.05305039882659912, 0.06075085327029228, 0.0649087205529213, 0.07576953619718552, 0.07322834432125092, 0.07866108417510986, 0.07643312215805054, 0.07760711759328842, 0.08046940714120865, 0.0784313753247261, 0.07698476314544678], 'val_recall': [0.59375, 0.65625, 0.78125, 0.8125, 0.8333333134651184, 0.9270833134651184, 1.0, 1.0, 0.96875, 0.9791666865348816, 1.0, 1.0, 1.0, 1.0, 1.0]}\n",
      "\n",
      "Final Training Loss:  0.47647005319595337\n",
      "Final Training Accuracy:  0.8928571343421936\n",
      "Final Training Precision:  0.07463186234235764\n",
      "Final Training Recall:  0.9955357313156128\n",
      "Final Validation Loss:  0.38851475715637207\n",
      "Final Validation Accuracy:  0.875\n",
      "Final Validation Precision:  0.07698476314544678\n",
      "Final Validation Recall:  1.0\n"
     ]
    }
   ],
   "source": [
    "print(hist.history)\n",
    "\n",
    "print(\"\\nFinal Training Loss: \", hist.history['loss'][-1])\n",
    "print(\"Final Training Accuracy: \", hist.history['accuracy'][-1])\n",
    "print(\"Final Training Precision: \", hist.history['precision'][-1])\n",
    "print(\"Final Training Recall: \", hist.history['recall'][-1])\n",
    "print(\"Final Validation Loss: \", hist.history['val_loss'][-1])\n",
    "print(\"Final Validation Accuracy: \", hist.history['val_accuracy'][-1])\n",
    "print(\"Final Validation Precision: \", hist.history['val_precision'][-1])\n",
    "print(\"Final Validation Recall: \", hist.history['val_recall'][-1])"
   ]
  },
  {
   "cell_type": "code",
   "execution_count": 34,
   "metadata": {},
   "outputs": [
    {
     "data": {
      "image/png": "[encoded data removed]",
      "text/plain": [
       "<Figure size 640x480 with 1 Axes>"
      ]
     },
     "metadata": {},
     "output_type": "display_data"
    }
   ],
   "source": [
    "fig = plt.figure()\n",
    "plt.plot(hist.history['loss'], color='teal', label='loss')\n",
    "plt.plot(hist.history['val_loss'], color='orange', label='val_loss')\n",
    "fig.suptitle('Loss', fontsize=20)\n",
    "plt.legend(loc=\"upper left\")\n",
    "plt.show()"
   ]
  },
  {
   "cell_type": "code",
   "execution_count": 35,
   "metadata": {},
   "outputs": [
    {
     "data": {
      "image/png": "[encoded data removed]",
      "text/plain": [
       "<Figure size 640x480 with 1 Axes>"
      ]
     },
     "metadata": {},
     "output_type": "display_data"
    }
   ],
   "source": [
    "fig = plt.figure()\n",
    "plt.plot(hist.history['accuracy'], color='teal', label='accuracy')\n",
    "plt.plot(hist.history['val_accuracy'], color='orange', label='val_accuracy')\n",
    "fig.suptitle('Accuracy', fontsize=20)\n",
    "plt.legend(loc=\"upper left\")\n",
    "plt.show()"
   ]
  },
  {
   "cell_type": "code",
   "execution_count": null,
   "metadata": {},
   "outputs": [],
   "source": []
  },
  {
   "cell_type": "code",
   "execution_count": 36,
   "metadata": {},
   "outputs": [],
   "source": [
    "pre = Precision()\n",
    "re = Recall()\n",
    "acc = BinaryAccuracy()"
   ]
  },
  {
   "cell_type": "code",
   "execution_count": 37,
   "metadata": {},
   "outputs": [
    {
     "name": "stdout",
     "output_type": "stream",
     "text": [
      "1/1 [==============================] - 0s 111ms/step\n"
     ]
    }
   ],
   "source": [
    "for batch in test.as_numpy_iterator(): \n",
    "    X, y = batch\n",
    "    yhat = model.predict(X)\n",
    "    y_one_hot = tf.one_hot(y, depth=34)\n",
    "    pre.update_state(y_one_hot, yhat)\n",
    "    re.update_state(y_one_hot, yhat)\n",
    "    acc.update_state(y_one_hot, yhat)"
   ]
  },
  {
   "cell_type": "code",
   "execution_count": 38,
   "metadata": {},
   "outputs": [
    {
     "name": "stdout",
     "output_type": "stream",
     "text": [
      "tf.Tensor(0.07862408, shape=(), dtype=float32) tf.Tensor(1.0, shape=(), dtype=float32) tf.Tensor(0.6553309, shape=(), dtype=float32)\n"
     ]
    }
   ],
   "source": [
    "print(pre.result(), re.result(), acc.result())"
   ]
  },
  {
   "cell_type": "code",
   "execution_count": 51,
   "metadata": {},
   "outputs": [],
   "source": [
    "model.save(os.path.join('models','leafclassifier_v4b.h5'))"
   ]
  },
  {
   "cell_type": "code",
   "execution_count": 52,
   "metadata": {},
   "outputs": [],
   "source": [
    "new_model = load_model(os.path.join('models','leafclassifier_v4b.h5'))"
   ]
  },
  {
   "cell_type": "code",
   "execution_count": null,
   "metadata": {},
   "outputs": [],
   "source": []
  },
  {
   "cell_type": "code",
   "execution_count": null,
   "metadata": {},
   "outputs": [],
   "source": []
  }
 ],
 "metadata": {
  "kernelspec": {
   "display_name": "Python 3.10.7 64-bit",
   "language": "python",
   "name": "python3"
  },
  "language_info": {
   "codemirror_mode": {
    "name": "ipython",
    "version": 3
   },
   "file_extension": ".py",
   "mimetype": "text/x-python",
   "name": "python",
   "nbconvert_exporter": "python",
   "pygments_lexer": "ipython3",
   "version": "3.11.9"
  },
  "orig_nbformat": 4,
  "vscode": {
   "interpreter": {
    "hash": "aee8b7b246df8f9039afb4144a1f6fd8d2ca17a180786b69acc140d282b71a49"
   }
  }
 },
 "nbformat": 4,
 "nbformat_minor": 2
}
