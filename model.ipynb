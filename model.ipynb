{
 "cells": [
  {
   "cell_type": "code",
   "execution_count": 1,
   "metadata": {},
   "outputs": [
    {
     "name": "stderr",
     "output_type": "stream",
     "text": [
      "/var/folders/bk/7hrwt8692xs_m16m4k_44h3m0000gn/T/ipykernel_80119/3633190547.py:4: DeprecationWarning: 'imghdr' is deprecated and slated for removal in Python 3.13\n",
      "  import imghdr\n"
     ]
    }
   ],
   "source": [
    "import os\n",
    "import glob\n",
    "import cv2\n",
    "import imghdr\n",
    "import tensorflow as tf\n",
    "import numpy as np\n",
    "from matplotlib import pyplot as plt\n",
    "\n",
    "from tensorflow.keras.models import Sequential\n",
    "from tensorflow.keras.layers import Conv2D, MaxPooling2D, Dense, Flatten, Dropout\n",
    "from tensorflow.keras.metrics import Precision, Recall, BinaryAccuracy\n",
    "from tensorflow.keras.models import load_model"
   ]
  },
  {
   "cell_type": "code",
   "execution_count": 2,
   "metadata": {},
   "outputs": [],
   "source": [
    "# Limit the VRAM that Tensor Flow can use on my GPU. \n",
    "# This avoids any potential OOM (Out of Memory) errors through setting the GPU Memory Consumption Growth.\n",
    "gpus = tf.config.experimental.list_physical_devices('GPU')\n",
    "for gpu in gpus: \n",
    "    tf.config.experimental.set_memory_growth(gpu, True)"
   ]
  },
  {
   "cell_type": "code",
   "execution_count": 3,
   "metadata": {},
   "outputs": [],
   "source": [
    "data_dir = 'data'"
   ]
  },
  {
   "cell_type": "code",
   "execution_count": 4,
   "metadata": {},
   "outputs": [],
   "source": [
    "image_exts = ['jpeg', 'tiff']"
   ]
  },
  {
   "cell_type": "code",
   "execution_count": 5,
   "metadata": {},
   "outputs": [],
   "source": [
    "for image_class in os.listdir(data_dir): \n",
    "    if (image_class != '.DS_Store'):\n",
    "        for image in os.listdir(os.path.join(data_dir, image_class)):\n",
    "            image_path = os.path.join(data_dir, image_class, image)\n",
    "            try: \n",
    "                img = cv2.imread(image_path)\n",
    "                tip = imghdr.what(image_path)\n",
    "                if tip not in image_exts: \n",
    "                    print('Image not in ext list {}'.format(image_path))\n",
    "                    os.remove(image_path)\n",
    "            except Exception as e: \n",
    "                print('Issue with image {}'.format(image_path))\n",
    "                # os.remove(image_path)"
   ]
  },
  {
   "cell_type": "code",
   "execution_count": 6,
   "metadata": {},
   "outputs": [
    {
     "name": "stdout",
     "output_type": "stream",
     "text": [
      "Found 370 files belonging to 34 classes.\n"
     ]
    }
   ],
   "source": [
    "data = tf.keras.utils.image_dataset_from_directory('data')"
   ]
  },
  {
   "cell_type": "code",
   "execution_count": 7,
   "metadata": {},
   "outputs": [],
   "source": [
    "data_iterator = data.as_numpy_iterator()"
   ]
  },
  {
   "cell_type": "code",
   "execution_count": 8,
   "metadata": {},
   "outputs": [
    {
     "data": {
      "text/plain": [
       "(32, 256, 256, 3)"
      ]
     },
     "execution_count": 8,
     "metadata": {},
     "output_type": "execute_result"
    }
   ],
   "source": [
    "batch = data_iterator.next()\n",
    "batch[0].shape"
   ]
  },
  {
   "cell_type": "code",
   "execution_count": 9,
   "metadata": {},
   "outputs": [
    {
     "data": {
      "text/plain": [
       "<_MapDataset element_spec=(TensorSpec(shape=(None, 256, 256, 3), dtype=tf.float32, name=None), TensorSpec(shape=(None,), dtype=tf.int32, name=None))>"
      ]
     },
     "execution_count": 9,
     "metadata": {},
     "output_type": "execute_result"
    }
   ],
   "source": [
    "data = data.map(lambda x,y: (x/255, y))\n",
    "data"
   ]
  },
  {
   "cell_type": "code",
   "execution_count": 10,
   "metadata": {},
   "outputs": [
    {
     "data": {
      "text/plain": [
       "(array([[[[0.82990193, 0.46519607, 0.6887255 ],\n",
       "          [0.8227482 , 0.46450675, 0.68803614],\n",
       "          [0.81213236, 0.4552696 , 0.67879903],\n",
       "          ...,\n",
       "          [0.90686274, 0.5357843 , 0.78382355],\n",
       "          [0.8948223 , 0.5379596 , 0.77717525],\n",
       "          [0.89715075, 0.542739  , 0.78195465]],\n",
       " \n",
       "         [[0.82570463, 0.46188724, 0.68541664],\n",
       "          [0.8202206 , 0.46335784, 0.68688726],\n",
       "          [0.8120098 , 0.45514706, 0.6786765 ],\n",
       "          ...,\n",
       "          [0.9142157 , 0.5421569 , 0.7921569 ],\n",
       "          [0.9091912 , 0.53664213, 0.7876226 ],\n",
       "          [0.9098039 , 0.5372549 , 0.7882353 ]],\n",
       " \n",
       "         [[0.80735296, 0.4504902 , 0.67401963],\n",
       "          [0.8114124 , 0.45454964, 0.67807907],\n",
       "          [0.8060202 , 0.44915748, 0.6726869 ],\n",
       "          ...,\n",
       "          [0.91420037, 0.54557294, 0.7887102 ],\n",
       "          [0.9209406 , 0.5483915 , 0.79937196],\n",
       "          [0.91671264, 0.5441636 , 0.795144  ]],\n",
       " \n",
       "         ...,\n",
       " \n",
       "         [[0.69240195, 0.30416667, 0.51593137],\n",
       "          [0.6759651 , 0.28772977, 0.4994945 ],\n",
       "          [0.68820465, 0.29996938, 0.51173407],\n",
       "          ...,\n",
       "          [0.7903186 , 0.40208334, 0.62561274],\n",
       "          [0.7954657 , 0.41115198, 0.63468134],\n",
       "          [0.7848499 , 0.40053615, 0.6240656 ]],\n",
       " \n",
       "         [[0.6891697 , 0.30093443, 0.5126991 ],\n",
       "          [0.7024357 , 0.31420037, 0.5259651 ],\n",
       "          [0.70098037, 0.3127451 , 0.5245098 ],\n",
       "          ...,\n",
       "          [0.8081189 , 0.41988358, 0.643413  ],\n",
       "          [0.7925092 , 0.40819547, 0.6317249 ],\n",
       "          [0.7952206 , 0.41090685, 0.63443625]],\n",
       " \n",
       "         [[0.69728863, 0.30513173, 0.5168964 ],\n",
       "          [0.70208335, 0.3131587 , 0.5249234 ],\n",
       "          [0.69273895, 0.30450368, 0.5162684 ],\n",
       "          ...,\n",
       "          [0.7946844 , 0.40644914, 0.62997854],\n",
       "          [0.7911765 , 0.40686274, 0.63039213],\n",
       "          [0.78356314, 0.39924937, 0.6227788 ]]],\n",
       " \n",
       " \n",
       "        [[[0.9852941 , 0.4598039 , 0.6911765 ],\n",
       "          [0.9902727 , 0.46478248, 0.696155  ],\n",
       "          [0.9953891 , 0.4698989 , 0.7012715 ],\n",
       "          ...,\n",
       "          [0.99862134, 0.50136334, 0.7641085 ],\n",
       "          [0.9970588 , 0.49970895, 0.76245403],\n",
       "          [0.9994945 , 0.5050092 , 0.7677543 ]],\n",
       " \n",
       "         [[0.98468137, 0.45919117, 0.69056374],\n",
       "          [0.9717065 , 0.4462163 , 0.6775888 ],\n",
       "          [0.9780637 , 0.45257354, 0.6839461 ],\n",
       "          ...,\n",
       "          [0.99635416, 0.5001532 , 0.76289827],\n",
       "          [0.99396443, 0.49592525, 0.75867033],\n",
       "          [0.97458637, 0.47654718, 0.73929226]],\n",
       " \n",
       "         [[0.992356  , 0.47503063, 0.7024816 ],\n",
       "          [0.9930147 , 0.47536764, 0.70281863],\n",
       "          [0.9942402 , 0.47659314, 0.7040441 ],\n",
       "          ...,\n",
       "          [0.99791664, 0.49987745, 0.76262254],\n",
       "          [0.9995098 , 0.50147057, 0.7642157 ],\n",
       "          [0.9988511 , 0.50392157, 0.76666665]],\n",
       " \n",
       "         ...,\n",
       " \n",
       "         [[0.7910999 , 0.23423713, 0.45384496],\n",
       "          [0.80666363, 0.24980086, 0.4694087 ],\n",
       "          [0.79609376, 0.239231  , 0.45883885],\n",
       "          ...,\n",
       "          [0.91164213, 0.35085785, 0.56262255],\n",
       "          [0.92267156, 0.36188725, 0.57365197],\n",
       "          [0.9254902 , 0.37254903, 0.5803922 ]],\n",
       " \n",
       "         [[0.79002756, 0.23316483, 0.4606158 ],\n",
       "          [0.79731923, 0.24045649, 0.46692708],\n",
       "          [0.79928005, 0.24241728, 0.46202514],\n",
       "          ...,\n",
       "          [0.90819544, 0.34741116, 0.55917585],\n",
       "          [0.91285235, 0.35399815, 0.5647978 ],\n",
       "          [0.9220588 , 0.36911765, 0.5769608 ]],\n",
       " \n",
       "         [[0.80143994, 0.23673406, 0.46810663],\n",
       "          [0.80546874, 0.24076287, 0.47213542],\n",
       "          [0.79759496, 0.23288909, 0.46426165],\n",
       "          ...,\n",
       "          [0.9184283 , 0.36254597, 0.57185966],\n",
       "          [0.9019608 , 0.34615502, 0.5625919 ],\n",
       "          [0.9056526 , 0.34878984, 0.5683977 ]]],\n",
       " \n",
       " \n",
       "        [[[0.8646752 , 0.41761643, 0.64898896],\n",
       "          [0.85078126, 0.40372244, 0.635095  ],\n",
       "          [0.85019916, 0.4031403 , 0.63451284],\n",
       "          ...,\n",
       "          [0.89132965, 0.48246017, 0.7590686 ],\n",
       "          [0.8759038 , 0.47198224, 0.7504136 ],\n",
       "          [0.86531866, 0.46384802, 0.75012255]],\n",
       " \n",
       "         [[0.86731005, 0.42025122, 0.6516238 ],\n",
       "          [0.8634957 , 0.41643688, 0.64780945],\n",
       "          [0.8512255 , 0.40416667, 0.63553923],\n",
       "          ...,\n",
       "          [0.9067249 , 0.4910386 , 0.77339154],\n",
       "          [0.890625  , 0.47783396, 0.7592218 ],\n",
       "          [0.88720894, 0.4818168 , 0.7607384 ]],\n",
       " \n",
       "         [[0.8633885 , 0.41632965, 0.6477022 ],\n",
       "          [0.8566636 , 0.4096048 , 0.6409773 ],\n",
       "          [0.8544118 , 0.40735295, 0.6387255 ],\n",
       "          ...,\n",
       "          [0.8945925 , 0.4828278 , 0.75341606],\n",
       "          [0.9014706 , 0.4897059 , 0.76029414],\n",
       "          [0.9046875 , 0.49292278, 0.763511  ]],\n",
       " \n",
       "         ...,\n",
       " \n",
       "         [[0.67941177, 0.2009804 , 0.4245098 ],\n",
       "          [0.684712  , 0.20628063, 0.42981005],\n",
       "          [0.68368566, 0.20525429, 0.4287837 ],\n",
       "          ...,\n",
       "          [0.82991725, 0.36717218, 0.59462315],\n",
       "          [0.83086705, 0.36812192, 0.5977788 ],\n",
       "          [0.83120406, 0.36845896, 0.6037531 ]],\n",
       " \n",
       "         [[0.6886795 , 0.22054228, 0.44064033],\n",
       "          [0.67132354, 0.20318627, 0.42328432],\n",
       "          [0.68468136, 0.21654412, 0.43664217],\n",
       "          ...,\n",
       "          [0.816299  , 0.35355392, 0.5810049 ],\n",
       "          [0.8377604 , 0.37501532, 0.6096048 ],\n",
       "          [0.8571844 , 0.39443934, 0.62973344]],\n",
       " \n",
       "         [[0.6801164 , 0.21344976, 0.4330576 ],\n",
       "          [0.68426776, 0.2176011 , 0.43720895],\n",
       "          [0.6979933 , 0.2313266 , 0.45093444],\n",
       "          ...,\n",
       "          [0.8235294 , 0.36078432, 0.59607846],\n",
       "          [0.83926165, 0.37651655, 0.6118107 ],\n",
       "          [0.84581804, 0.3830729 , 0.618367  ]]],\n",
       " \n",
       " \n",
       "        ...,\n",
       " \n",
       " \n",
       "        [[[0.933318  , 0.46665135, 0.5764553 ],\n",
       "          [0.93754596, 0.4708793 , 0.58068323],\n",
       "          [0.92863053, 0.46196386, 0.57176775],\n",
       "          ...,\n",
       "          [0.9926164 , 0.5560049 , 0.6958793 ],\n",
       "          [0.9906863 , 0.5397059 , 0.69264704],\n",
       "          [0.9922947 , 0.54131436, 0.69425553]],\n",
       " \n",
       "         [[0.93737745, 0.47071078, 0.5805147 ],\n",
       "          [0.9313725 , 0.46470588, 0.5745098 ],\n",
       "          [0.9340686 , 0.46740195, 0.5772059 ],\n",
       "          ...,\n",
       "          [1.        , 0.5584559 , 0.69963235],\n",
       "          [0.9898284 , 0.53884804, 0.6917892 ],\n",
       "          [0.99247855, 0.5414982 , 0.69443935]],\n",
       " \n",
       "         [[0.9485294 , 0.48186275, 0.59166664],\n",
       "          [0.94617033, 0.4795037 , 0.5893076 ],\n",
       "          [0.93662685, 0.46996018, 0.57976407],\n",
       "          ...,\n",
       "          [0.9910386 , 0.54397976, 0.6851562 ],\n",
       "          [0.9962163 , 0.54523593, 0.6981771 ],\n",
       "          [0.99607843, 0.54509807, 0.69803923]],\n",
       " \n",
       "         ...,\n",
       " \n",
       "         [[0.8761489 , 0.35458028, 0.46830577],\n",
       "          [0.8522978 , 0.33072916, 0.44445467],\n",
       "          [0.8341912 , 0.32438725, 0.43419117],\n",
       "          ...,\n",
       "          [0.9140012 , 0.41204044, 0.5414522 ],\n",
       "          [0.91729474, 0.41533396, 0.5447457 ],\n",
       "          [0.91813725, 0.41617647, 0.5534314 ]],\n",
       " \n",
       "         [[0.8590533 , 0.3368413 , 0.45088848],\n",
       "          [0.83982843, 0.3182598 , 0.4319853 ],\n",
       "          [0.8375919 , 0.32709864, 0.43713236],\n",
       "          ...,\n",
       "          [0.92156863, 0.41960785, 0.54901963],\n",
       "          [0.915579  , 0.41361827, 0.54303   ],\n",
       "          [0.90989584, 0.40793505, 0.54519   ]],\n",
       " \n",
       "         [[0.8549939 , 0.32558212, 0.44322917],\n",
       "          [0.8475184 , 0.32594976, 0.43967524],\n",
       "          [0.8316636 , 0.3218597 , 0.4316636 ],\n",
       "          ...,\n",
       "          [0.91764706, 0.41568628, 0.5529412 ],\n",
       "          [0.9137255 , 0.4117647 , 0.54901963],\n",
       "          [0.91150427, 0.4095435 , 0.54633886]]],\n",
       " \n",
       " \n",
       "        [[[0.99348956, 0.49937195, 0.6876072 ],\n",
       "          [0.99641544, 0.5032782 , 0.7032782 ],\n",
       "          [0.9868107 , 0.48877144, 0.6887714 ],\n",
       "          ...,\n",
       "          [0.98316485, 0.5125766 , 0.75179225],\n",
       "          [0.98828125, 0.520144  , 0.75200677],\n",
       "          [0.9971354 , 0.5303309 , 0.7621936 ]],\n",
       " \n",
       "         [[1.        , 0.49889705, 0.6910539 ],\n",
       "          [0.9887255 , 0.4867647 , 0.6867647 ],\n",
       "          [0.998989  , 0.50045955, 0.70045954],\n",
       "          ...,\n",
       "          [0.98062193, 0.5100337 , 0.7492494 ],\n",
       "          [0.98383886, 0.5132506 , 0.7524663 ],\n",
       "          [0.9857843 , 0.5151961 , 0.75441176]],\n",
       " \n",
       "         [[0.9996783 , 0.5065411 , 0.69477636],\n",
       "          [0.99669117, 0.49865195, 0.69865197],\n",
       "          [0.9884651 , 0.49042585, 0.6904259 ],\n",
       "          ...,\n",
       "          [0.9921722 , 0.51374084, 0.7529565 ],\n",
       "          [0.9996477 , 0.52464765, 0.7638634 ],\n",
       "          [0.99963236, 0.52164525, 0.7608609 ]],\n",
       " \n",
       "         ...,\n",
       " \n",
       "         [[0.80984986, 0.24906556, 0.46083027],\n",
       "          [0.7898284 , 0.23468137, 0.44362745],\n",
       "          [0.82614887, 0.27320772, 0.48105085],\n",
       "          ...,\n",
       "          [0.9168505 , 0.35998774, 0.548223  ],\n",
       "          [0.9377451 , 0.38088235, 0.56911767],\n",
       "          [0.9415901 , 0.38472733, 0.57296264]],\n",
       " \n",
       "         [[0.81870407, 0.25791973, 0.46576285],\n",
       "          [0.79865193, 0.2435049 , 0.44852942],\n",
       "          [0.8047028 , 0.25176165, 0.4556832 ],\n",
       "          ...,\n",
       "          [0.9319853 , 0.37512255, 0.56335783],\n",
       "          [0.93147975, 0.37682292, 0.56395525],\n",
       "          [0.925     , 0.3759804 , 0.5602941 ]],\n",
       " \n",
       "         [[0.8077053 , 0.24692096, 0.4547641 ],\n",
       "          [0.8086244 , 0.25347733, 0.45850185],\n",
       "          [0.8155331 , 0.2625919 , 0.46651348],\n",
       "          ...,\n",
       "          [0.9344822 , 0.3854626 , 0.56977636],\n",
       "          [0.9292892 , 0.38026962, 0.56237745],\n",
       "          [0.9337163 , 0.3846967 , 0.5611673 ]]],\n",
       " \n",
       " \n",
       "        [[[1.        , 0.50071996, 0.65366113],\n",
       "          [0.9886336 , 0.48275122, 0.6356924 ],\n",
       "          [0.9863051 , 0.4804228 , 0.63336396],\n",
       "          ...,\n",
       "          [1.        , 0.44652268, 0.61907166],\n",
       "          [0.9795343 , 0.41875   , 0.591299  ],\n",
       "          [0.99733454, 0.43995097, 0.6110294 ]],\n",
       " \n",
       "         [[0.9990656 , 0.49972427, 0.65266544],\n",
       "          [0.9942249 , 0.48834252, 0.6412837 ],\n",
       "          [0.9889859 , 0.48310354, 0.63604474],\n",
       "          ...,\n",
       "          [0.9850643 , 0.42428002, 0.59682906],\n",
       "          [0.9757353 , 0.41495097, 0.5875    ],\n",
       "          [0.9847273 , 0.43178615, 0.6004136 ]],\n",
       " \n",
       "         [[0.9882353 , 0.48235294, 0.63529414],\n",
       "          [0.99532783, 0.4897978 , 0.642739  ],\n",
       "          [1.        , 0.49116114, 0.6480239 ],\n",
       "          ...,\n",
       "          [1.        , 0.44496018, 0.6175092 ],\n",
       "          [1.        , 0.4492647 , 0.6207108 ],\n",
       "          [0.99995404, 0.4505668 , 0.61919427]],\n",
       " \n",
       "         ...,\n",
       " \n",
       "         [[1.        , 0.4227022 , 0.5717218 ],\n",
       "          [0.99880517, 0.4049326 , 0.55677086],\n",
       "          [0.9817708 , 0.3856924 , 0.5386336 ],\n",
       "          ...,\n",
       "          [0.9114277 , 0.3075061 , 0.40946692],\n",
       "          [0.8900276 , 0.2827972 , 0.38586092],\n",
       "          [0.89964765, 0.2839614 , 0.38984376]],\n",
       " \n",
       "         [[1.        , 0.40428922, 0.55379903],\n",
       "          [0.9915441 , 0.39560357, 0.5451134 ],\n",
       "          [0.98592216, 0.38984376, 0.53935355],\n",
       "          ...,\n",
       "          [0.8940104 , 0.29008886, 0.39989278],\n",
       "          [0.8961703 , 0.28154105, 0.3949142 ],\n",
       "          [0.8791054 , 0.26341912, 0.3771446 ]],\n",
       " \n",
       "         [[0.9936274 , 0.4       , 0.5416667 ],\n",
       "          [0.9906863 , 0.39529717, 0.5422488 ],\n",
       "          [0.9843137 , 0.3882353 , 0.5372549 ],\n",
       "          ...,\n",
       "          [0.90134805, 0.29742646, 0.39938724],\n",
       "          [0.899617  , 0.28393075, 0.38981313],\n",
       "          [0.89880514, 0.27527574, 0.38507965]]]], dtype=float32),\n",
       " array([10, 20,  0, 14, 18, 26, 30, 12,  8, 32,  1, 32, 23, 20, 15,  2, 10,\n",
       "        32, 28, 15, 19, 26, 23, 25, 12,  7, 24, 17, 20, 30, 20, 29],\n",
       "       dtype=int32))"
      ]
     },
     "execution_count": 10,
     "metadata": {},
     "output_type": "execute_result"
    }
   ],
   "source": [
    "data.as_numpy_iterator().next()"
   ]
  },
  {
   "cell_type": "code",
   "execution_count": 11,
   "metadata": {},
   "outputs": [],
   "source": [
    "train_size = int(len(data)*.6)\n",
    "val_size = int(len(data)*.25)\n",
    "test_size = int(len(data)*.15)"
   ]
  },
  {
   "cell_type": "code",
   "execution_count": 12,
   "metadata": {},
   "outputs": [
    {
     "data": {
      "text/plain": [
       "3"
      ]
     },
     "execution_count": 12,
     "metadata": {},
     "output_type": "execute_result"
    }
   ],
   "source": [
    "val_size"
   ]
  },
  {
   "cell_type": "code",
   "execution_count": 13,
   "metadata": {},
   "outputs": [],
   "source": [
    "train = data.take(train_size)\n",
    "val = data.skip(train_size).take(val_size)\n",
    "test = data.skip(train_size+val_size).take(test_size)"
   ]
  },
  {
   "cell_type": "code",
   "execution_count": 14,
   "metadata": {},
   "outputs": [
    {
     "data": {
      "text/plain": [
       "<_TakeDataset element_spec=(TensorSpec(shape=(None, 256, 256, 3), dtype=tf.float32, name=None), TensorSpec(shape=(None,), dtype=tf.int32, name=None))>"
      ]
     },
     "execution_count": 14,
     "metadata": {},
     "output_type": "execute_result"
    }
   ],
   "source": [
    "train"
   ]
  },
  {
   "cell_type": "code",
   "execution_count": 15,
   "metadata": {},
   "outputs": [],
   "source": [
    "def encode_one_hot(image, label):\n",
    "    label = tf.one_hot(label, depth=34)\n",
    "    return image, label\n",
    "\n",
    "train = train.map(encode_one_hot)\n",
    "val = val.map(encode_one_hot)"
   ]
  },
  {
   "cell_type": "code",
   "execution_count": null,
   "metadata": {},
   "outputs": [],
   "source": []
  },
  {
   "cell_type": "code",
   "execution_count": 16,
   "metadata": {},
   "outputs": [],
   "source": [
    "model = Sequential()"
   ]
  },
  {
   "cell_type": "code",
   "execution_count": 17,
   "metadata": {},
   "outputs": [
    {
     "name": "stderr",
     "output_type": "stream",
     "text": [
      "/Library/Frameworks/Python.framework/Versions/3.11/lib/python3.11/site-packages/keras/src/layers/convolutional/base_conv.py:107: UserWarning: Do not pass an `input_shape`/`input_dim` argument to a layer. When using Sequential models, prefer using an `Input(shape)` object as the first layer in the model instead.\n",
      "  super().__init__(activity_regularizer=activity_regularizer, **kwargs)\n"
     ]
    }
   ],
   "source": [
    "model.add(Conv2D(16, (3,3), 1, activation='relu', input_shape=(256,256,3)))\n",
    "model.add(MaxPooling2D())\n",
    "model.add(Conv2D(32, (3,3), 1, activation='relu'))\n",
    "model.add(MaxPooling2D())\n",
    "model.add(Conv2D(16, (3,3), 1, activation='relu'))\n",
    "model.add(MaxPooling2D())\n",
    "model.add(Flatten())\n",
    "model.add(Dense(256, activation='relu'))\n",
    "model.add(Dense(34, activation='sigmoid'))"
   ]
  },
  {
   "cell_type": "code",
   "execution_count": 18,
   "metadata": {},
   "outputs": [],
   "source": [
    "model.compile('adam', loss='categorical_crossentropy', metrics=['accuracy', 'Precision', 'Recall'])"
   ]
  },
  {
   "cell_type": "code",
   "execution_count": 19,
   "metadata": {},
   "outputs": [
    {
     "data": {
      "text/html": [
       "<pre style=\"white-space:pre;overflow-x:auto;line-height:normal;font-family:Menlo,'DejaVu Sans Mono',consolas,'Courier New',monospace\"><span style=\"font-weight: bold\">Model: \"sequential\"</span>\n",
       "</pre>\n"
      ],
      "text/plain": [
       "\u001b[1mModel: \"sequential\"\u001b[0m\n"
      ]
     },
     "metadata": {},
     "output_type": "display_data"
    },
    {
     "data": {
      "text/html": [
       "<pre style=\"white-space:pre;overflow-x:auto;line-height:normal;font-family:Menlo,'DejaVu Sans Mono',consolas,'Courier New',monospace\">┏━━━━━━━━━━━━━━━━━━━━━━━━━━━━━━━━━┳━━━━━━━━━━━━━━━━━━━━━━━━┳━━━━━━━━━━━━━━━┓\n",
       "┃<span style=\"font-weight: bold\"> Layer (type)                    </span>┃<span style=\"font-weight: bold\"> Output Shape           </span>┃<span style=\"font-weight: bold\">       Param # </span>┃\n",
       "┡━━━━━━━━━━━━━━━━━━━━━━━━━━━━━━━━━╇━━━━━━━━━━━━━━━━━━━━━━━━╇━━━━━━━━━━━━━━━┩\n",
       "│ conv2d (<span style=\"color: #0087ff; text-decoration-color: #0087ff\">Conv2D</span>)                 │ (<span style=\"color: #00d7ff; text-decoration-color: #00d7ff\">None</span>, <span style=\"color: #00af00; text-decoration-color: #00af00\">254</span>, <span style=\"color: #00af00; text-decoration-color: #00af00\">254</span>, <span style=\"color: #00af00; text-decoration-color: #00af00\">16</span>)   │           <span style=\"color: #00af00; text-decoration-color: #00af00\">448</span> │\n",
       "├─────────────────────────────────┼────────────────────────┼───────────────┤\n",
       "│ max_pooling2d (<span style=\"color: #0087ff; text-decoration-color: #0087ff\">MaxPooling2D</span>)    │ (<span style=\"color: #00d7ff; text-decoration-color: #00d7ff\">None</span>, <span style=\"color: #00af00; text-decoration-color: #00af00\">127</span>, <span style=\"color: #00af00; text-decoration-color: #00af00\">127</span>, <span style=\"color: #00af00; text-decoration-color: #00af00\">16</span>)   │             <span style=\"color: #00af00; text-decoration-color: #00af00\">0</span> │\n",
       "├─────────────────────────────────┼────────────────────────┼───────────────┤\n",
       "│ conv2d_1 (<span style=\"color: #0087ff; text-decoration-color: #0087ff\">Conv2D</span>)               │ (<span style=\"color: #00d7ff; text-decoration-color: #00d7ff\">None</span>, <span style=\"color: #00af00; text-decoration-color: #00af00\">125</span>, <span style=\"color: #00af00; text-decoration-color: #00af00\">125</span>, <span style=\"color: #00af00; text-decoration-color: #00af00\">32</span>)   │         <span style=\"color: #00af00; text-decoration-color: #00af00\">4,640</span> │\n",
       "├─────────────────────────────────┼────────────────────────┼───────────────┤\n",
       "│ max_pooling2d_1 (<span style=\"color: #0087ff; text-decoration-color: #0087ff\">MaxPooling2D</span>)  │ (<span style=\"color: #00d7ff; text-decoration-color: #00d7ff\">None</span>, <span style=\"color: #00af00; text-decoration-color: #00af00\">62</span>, <span style=\"color: #00af00; text-decoration-color: #00af00\">62</span>, <span style=\"color: #00af00; text-decoration-color: #00af00\">32</span>)     │             <span style=\"color: #00af00; text-decoration-color: #00af00\">0</span> │\n",
       "├─────────────────────────────────┼────────────────────────┼───────────────┤\n",
       "│ conv2d_2 (<span style=\"color: #0087ff; text-decoration-color: #0087ff\">Conv2D</span>)               │ (<span style=\"color: #00d7ff; text-decoration-color: #00d7ff\">None</span>, <span style=\"color: #00af00; text-decoration-color: #00af00\">60</span>, <span style=\"color: #00af00; text-decoration-color: #00af00\">60</span>, <span style=\"color: #00af00; text-decoration-color: #00af00\">16</span>)     │         <span style=\"color: #00af00; text-decoration-color: #00af00\">4,624</span> │\n",
       "├─────────────────────────────────┼────────────────────────┼───────────────┤\n",
       "│ max_pooling2d_2 (<span style=\"color: #0087ff; text-decoration-color: #0087ff\">MaxPooling2D</span>)  │ (<span style=\"color: #00d7ff; text-decoration-color: #00d7ff\">None</span>, <span style=\"color: #00af00; text-decoration-color: #00af00\">30</span>, <span style=\"color: #00af00; text-decoration-color: #00af00\">30</span>, <span style=\"color: #00af00; text-decoration-color: #00af00\">16</span>)     │             <span style=\"color: #00af00; text-decoration-color: #00af00\">0</span> │\n",
       "├─────────────────────────────────┼────────────────────────┼───────────────┤\n",
       "│ flatten (<span style=\"color: #0087ff; text-decoration-color: #0087ff\">Flatten</span>)               │ (<span style=\"color: #00d7ff; text-decoration-color: #00d7ff\">None</span>, <span style=\"color: #00af00; text-decoration-color: #00af00\">14400</span>)          │             <span style=\"color: #00af00; text-decoration-color: #00af00\">0</span> │\n",
       "├─────────────────────────────────┼────────────────────────┼───────────────┤\n",
       "│ dense (<span style=\"color: #0087ff; text-decoration-color: #0087ff\">Dense</span>)                   │ (<span style=\"color: #00d7ff; text-decoration-color: #00d7ff\">None</span>, <span style=\"color: #00af00; text-decoration-color: #00af00\">256</span>)            │     <span style=\"color: #00af00; text-decoration-color: #00af00\">3,686,656</span> │\n",
       "├─────────────────────────────────┼────────────────────────┼───────────────┤\n",
       "│ dense_1 (<span style=\"color: #0087ff; text-decoration-color: #0087ff\">Dense</span>)                 │ (<span style=\"color: #00d7ff; text-decoration-color: #00d7ff\">None</span>, <span style=\"color: #00af00; text-decoration-color: #00af00\">34</span>)             │         <span style=\"color: #00af00; text-decoration-color: #00af00\">8,738</span> │\n",
       "└─────────────────────────────────┴────────────────────────┴───────────────┘\n",
       "</pre>\n"
      ],
      "text/plain": [
       "┏━━━━━━━━━━━━━━━━━━━━━━━━━━━━━━━━━┳━━━━━━━━━━━━━━━━━━━━━━━━┳━━━━━━━━━━━━━━━┓\n",
       "┃\u001b[1m \u001b[0m\u001b[1mLayer (type)                   \u001b[0m\u001b[1m \u001b[0m┃\u001b[1m \u001b[0m\u001b[1mOutput Shape          \u001b[0m\u001b[1m \u001b[0m┃\u001b[1m \u001b[0m\u001b[1m      Param #\u001b[0m\u001b[1m \u001b[0m┃\n",
       "┡━━━━━━━━━━━━━━━━━━━━━━━━━━━━━━━━━╇━━━━━━━━━━━━━━━━━━━━━━━━╇━━━━━━━━━━━━━━━┩\n",
       "│ conv2d (\u001b[38;5;33mConv2D\u001b[0m)                 │ (\u001b[38;5;45mNone\u001b[0m, \u001b[38;5;34m254\u001b[0m, \u001b[38;5;34m254\u001b[0m, \u001b[38;5;34m16\u001b[0m)   │           \u001b[38;5;34m448\u001b[0m │\n",
       "├─────────────────────────────────┼────────────────────────┼───────────────┤\n",
       "│ max_pooling2d (\u001b[38;5;33mMaxPooling2D\u001b[0m)    │ (\u001b[38;5;45mNone\u001b[0m, \u001b[38;5;34m127\u001b[0m, \u001b[38;5;34m127\u001b[0m, \u001b[38;5;34m16\u001b[0m)   │             \u001b[38;5;34m0\u001b[0m │\n",
       "├─────────────────────────────────┼────────────────────────┼───────────────┤\n",
       "│ conv2d_1 (\u001b[38;5;33mConv2D\u001b[0m)               │ (\u001b[38;5;45mNone\u001b[0m, \u001b[38;5;34m125\u001b[0m, \u001b[38;5;34m125\u001b[0m, \u001b[38;5;34m32\u001b[0m)   │         \u001b[38;5;34m4,640\u001b[0m │\n",
       "├─────────────────────────────────┼────────────────────────┼───────────────┤\n",
       "│ max_pooling2d_1 (\u001b[38;5;33mMaxPooling2D\u001b[0m)  │ (\u001b[38;5;45mNone\u001b[0m, \u001b[38;5;34m62\u001b[0m, \u001b[38;5;34m62\u001b[0m, \u001b[38;5;34m32\u001b[0m)     │             \u001b[38;5;34m0\u001b[0m │\n",
       "├─────────────────────────────────┼────────────────────────┼───────────────┤\n",
       "│ conv2d_2 (\u001b[38;5;33mConv2D\u001b[0m)               │ (\u001b[38;5;45mNone\u001b[0m, \u001b[38;5;34m60\u001b[0m, \u001b[38;5;34m60\u001b[0m, \u001b[38;5;34m16\u001b[0m)     │         \u001b[38;5;34m4,624\u001b[0m │\n",
       "├─────────────────────────────────┼────────────────────────┼───────────────┤\n",
       "│ max_pooling2d_2 (\u001b[38;5;33mMaxPooling2D\u001b[0m)  │ (\u001b[38;5;45mNone\u001b[0m, \u001b[38;5;34m30\u001b[0m, \u001b[38;5;34m30\u001b[0m, \u001b[38;5;34m16\u001b[0m)     │             \u001b[38;5;34m0\u001b[0m │\n",
       "├─────────────────────────────────┼────────────────────────┼───────────────┤\n",
       "│ flatten (\u001b[38;5;33mFlatten\u001b[0m)               │ (\u001b[38;5;45mNone\u001b[0m, \u001b[38;5;34m14400\u001b[0m)          │             \u001b[38;5;34m0\u001b[0m │\n",
       "├─────────────────────────────────┼────────────────────────┼───────────────┤\n",
       "│ dense (\u001b[38;5;33mDense\u001b[0m)                   │ (\u001b[38;5;45mNone\u001b[0m, \u001b[38;5;34m256\u001b[0m)            │     \u001b[38;5;34m3,686,656\u001b[0m │\n",
       "├─────────────────────────────────┼────────────────────────┼───────────────┤\n",
       "│ dense_1 (\u001b[38;5;33mDense\u001b[0m)                 │ (\u001b[38;5;45mNone\u001b[0m, \u001b[38;5;34m34\u001b[0m)             │         \u001b[38;5;34m8,738\u001b[0m │\n",
       "└─────────────────────────────────┴────────────────────────┴───────────────┘\n"
      ]
     },
     "metadata": {},
     "output_type": "display_data"
    },
    {
     "data": {
      "text/html": [
       "<pre style=\"white-space:pre;overflow-x:auto;line-height:normal;font-family:Menlo,'DejaVu Sans Mono',consolas,'Courier New',monospace\"><span style=\"font-weight: bold\"> Total params: </span><span style=\"color: #00af00; text-decoration-color: #00af00\">3,705,106</span> (14.13 MB)\n",
       "</pre>\n"
      ],
      "text/plain": [
       "\u001b[1m Total params: \u001b[0m\u001b[38;5;34m3,705,106\u001b[0m (14.13 MB)\n"
      ]
     },
     "metadata": {},
     "output_type": "display_data"
    },
    {
     "data": {
      "text/html": [
       "<pre style=\"white-space:pre;overflow-x:auto;line-height:normal;font-family:Menlo,'DejaVu Sans Mono',consolas,'Courier New',monospace\"><span style=\"font-weight: bold\"> Trainable params: </span><span style=\"color: #00af00; text-decoration-color: #00af00\">3,705,106</span> (14.13 MB)\n",
       "</pre>\n"
      ],
      "text/plain": [
       "\u001b[1m Trainable params: \u001b[0m\u001b[38;5;34m3,705,106\u001b[0m (14.13 MB)\n"
      ]
     },
     "metadata": {},
     "output_type": "display_data"
    },
    {
     "data": {
      "text/html": [
       "<pre style=\"white-space:pre;overflow-x:auto;line-height:normal;font-family:Menlo,'DejaVu Sans Mono',consolas,'Courier New',monospace\"><span style=\"font-weight: bold\"> Non-trainable params: </span><span style=\"color: #00af00; text-decoration-color: #00af00\">0</span> (0.00 B)\n",
       "</pre>\n"
      ],
      "text/plain": [
       "\u001b[1m Non-trainable params: \u001b[0m\u001b[38;5;34m0\u001b[0m (0.00 B)\n"
      ]
     },
     "metadata": {},
     "output_type": "display_data"
    }
   ],
   "source": [
    "model.summary()"
   ]
  },
  {
   "cell_type": "code",
   "execution_count": 20,
   "metadata": {},
   "outputs": [],
   "source": [
    "logdir='logs'"
   ]
  },
  {
   "cell_type": "code",
   "execution_count": 21,
   "metadata": {},
   "outputs": [],
   "source": [
    "tensorboard_callback = tf.keras.callbacks.TensorBoard(log_dir=logdir)"
   ]
  },
  {
   "cell_type": "code",
   "execution_count": 22,
   "metadata": {},
   "outputs": [
    {
     "name": "stdout",
     "output_type": "stream",
     "text": [
      "Epoch 1/15\n",
      "\u001b[1m7/7\u001b[0m \u001b[32m━━━━━━━━━━━━━━━━━━━━\u001b[0m\u001b[37m\u001b[0m \u001b[1m3s\u001b[0m 296ms/step - Precision: 0.0315 - Recall: 0.5189 - accuracy: 0.0509 - loss: 3.7354 - val_Precision: 0.0369 - val_Recall: 0.4375 - val_accuracy: 0.0417 - val_loss: 3.4616\n",
      "Epoch 2/15\n",
      "\u001b[1m7/7\u001b[0m \u001b[32m━━━━━━━━━━━━━━━━━━━━\u001b[0m\u001b[37m\u001b[0m \u001b[1m2s\u001b[0m 269ms/step - Precision: 0.0357 - Recall: 0.4523 - accuracy: 0.0648 - loss: 3.4331 - val_Precision: 0.0403 - val_Recall: 0.6250 - val_accuracy: 0.1250 - val_loss: 3.3589\n",
      "Epoch 3/15\n",
      "\u001b[1m7/7\u001b[0m \u001b[32m━━━━━━━━━━━━━━━━━━━━\u001b[0m\u001b[37m\u001b[0m \u001b[1m2s\u001b[0m 283ms/step - Precision: 0.0453 - Recall: 0.7345 - accuracy: 0.1108 - loss: 3.2873 - val_Precision: 0.0461 - val_Recall: 0.8438 - val_accuracy: 0.1354 - val_loss: 3.1278\n",
      "Epoch 4/15\n",
      "\u001b[1m7/7\u001b[0m \u001b[32m━━━━━━━━━━━━━━━━━━━━\u001b[0m\u001b[37m\u001b[0m \u001b[1m2s\u001b[0m 283ms/step - Precision: 0.0477 - Recall: 0.8671 - accuracy: 0.1885 - loss: 3.0396 - val_Precision: 0.0539 - val_Recall: 0.9375 - val_accuracy: 0.2604 - val_loss: 2.6072\n",
      "Epoch 5/15\n",
      "\u001b[1m7/7\u001b[0m \u001b[32m━━━━━━━━━━━━━━━━━━━━\u001b[0m\u001b[37m\u001b[0m \u001b[1m2s\u001b[0m 280ms/step - Precision: 0.0519 - Recall: 0.9343 - accuracy: 0.3094 - loss: 2.5270 - val_Precision: 0.0540 - val_Recall: 0.9479 - val_accuracy: 0.4062 - val_loss: 2.2783\n",
      "Epoch 6/15\n",
      "\u001b[1m7/7\u001b[0m \u001b[32m━━━━━━━━━━━━━━━━━━━━\u001b[0m\u001b[37m\u001b[0m \u001b[1m2s\u001b[0m 252ms/step - Precision: 0.0548 - Recall: 0.9733 - accuracy: 0.4439 - loss: 2.1266 - val_Precision: 0.0559 - val_Recall: 0.9792 - val_accuracy: 0.5104 - val_loss: 1.7143\n",
      "Epoch 7/15\n",
      "\u001b[1m7/7\u001b[0m \u001b[32m━━━━━━━━━━━━━━━━━━━━\u001b[0m\u001b[37m\u001b[0m \u001b[1m2s\u001b[0m 251ms/step - Precision: 0.0561 - Recall: 0.9716 - accuracy: 0.5017 - loss: 1.6985 - val_Precision: 0.0586 - val_Recall: 0.9896 - val_accuracy: 0.6354 - val_loss: 1.3973\n",
      "Epoch 8/15\n",
      "\u001b[1m7/7\u001b[0m \u001b[32m━━━━━━━━━━━━━━━━━━━━\u001b[0m\u001b[37m\u001b[0m \u001b[1m2s\u001b[0m 258ms/step - Precision: 0.0584 - Recall: 0.9897 - accuracy: 0.6975 - loss: 1.2226 - val_Precision: 0.0577 - val_Recall: 0.9792 - val_accuracy: 0.6979 - val_loss: 1.1600\n",
      "Epoch 9/15\n",
      "\u001b[1m7/7\u001b[0m \u001b[32m━━━━━━━━━━━━━━━━━━━━\u001b[0m\u001b[37m\u001b[0m \u001b[1m2s\u001b[0m 255ms/step - Precision: 0.0587 - Recall: 0.9875 - accuracy: 0.6847 - loss: 1.1323 - val_Precision: 0.0608 - val_Recall: 1.0000 - val_accuracy: 0.8646 - val_loss: 0.7169\n",
      "Epoch 10/15\n",
      "\u001b[1m7/7\u001b[0m \u001b[32m━━━━━━━━━━━━━━━━━━━━\u001b[0m\u001b[37m\u001b[0m \u001b[1m2s\u001b[0m 255ms/step - Precision: 0.0621 - Recall: 1.0000 - accuracy: 0.7930 - loss: 0.8343 - val_Precision: 0.0623 - val_Recall: 0.9896 - val_accuracy: 0.7292 - val_loss: 0.8569\n",
      "Epoch 11/15\n",
      "\u001b[1m7/7\u001b[0m \u001b[32m━━━━━━━━━━━━━━━━━━━━\u001b[0m\u001b[37m\u001b[0m \u001b[1m2s\u001b[0m 254ms/step - Precision: 0.0623 - Recall: 1.0000 - accuracy: 0.8126 - loss: 0.6576 - val_Precision: 0.0644 - val_Recall: 1.0000 - val_accuracy: 0.8750 - val_loss: 0.5163\n",
      "Epoch 12/15\n",
      "\u001b[1m7/7\u001b[0m \u001b[32m━━━━━━━━━━━━━━━━━━━━\u001b[0m\u001b[37m\u001b[0m \u001b[1m2s\u001b[0m 277ms/step - Precision: 0.0672 - Recall: 0.9932 - accuracy: 0.8586 - loss: 0.4801 - val_Precision: 0.0666 - val_Recall: 1.0000 - val_accuracy: 0.8854 - val_loss: 0.4661\n",
      "Epoch 13/15\n",
      "\u001b[1m7/7\u001b[0m \u001b[32m━━━━━━━━━━━━━━━━━━━━\u001b[0m\u001b[37m\u001b[0m \u001b[1m2s\u001b[0m 263ms/step - Precision: 0.0651 - Recall: 1.0000 - accuracy: 0.8690 - loss: 0.5345 - val_Precision: 0.0648 - val_Recall: 1.0000 - val_accuracy: 0.9062 - val_loss: 0.4142\n",
      "Epoch 14/15\n",
      "\u001b[1m7/7\u001b[0m \u001b[32m━━━━━━━━━━━━━━━━━━━━\u001b[0m\u001b[37m\u001b[0m \u001b[1m2s\u001b[0m 276ms/step - Precision: 0.0642 - Recall: 1.0000 - accuracy: 0.9039 - loss: 0.3736 - val_Precision: 0.0681 - val_Recall: 1.0000 - val_accuracy: 0.9375 - val_loss: 0.2087\n",
      "Epoch 15/15\n",
      "\u001b[1m7/7\u001b[0m \u001b[32m━━━━━━━━━━━━━━━━━━━━\u001b[0m\u001b[37m\u001b[0m \u001b[1m2s\u001b[0m 265ms/step - Precision: 0.0687 - Recall: 1.0000 - accuracy: 0.9143 - loss: 0.2813 - val_Precision: 0.0682 - val_Recall: 1.0000 - val_accuracy: 0.9688 - val_loss: 0.1671\n"
     ]
    }
   ],
   "source": [
    "hist = model.fit(train, epochs=15, validation_data=val, callbacks=[tensorboard_callback])"
   ]
  },
  {
   "cell_type": "code",
   "execution_count": 28,
   "metadata": {},
   "outputs": [
    {
     "name": "stdout",
     "output_type": "stream",
     "text": [
      "{'Precision': [0.030542677268385887, 0.03857972100377083, 0.04424538463354111, 0.04931163787841797, 0.05225180462002754, 0.05455455556511879, 0.05748031660914421, 0.05858960747718811, 0.05950147286057472, 0.06246514245867729, 0.06194690242409706, 0.06747352331876755, 0.06547793000936508, 0.06451612710952759, 0.06875383853912354], 'Recall': [0.5, 0.5044642686843872, 0.7276785969734192, 0.8794642686843872, 0.9375, 0.9732142686843872, 0.9776785969734192, 0.9866071343421936, 0.9910714030265808, 1.0, 1.0, 0.9955357313156128, 1.0, 1.0, 1.0], 'accuracy': [0.0535714291036129, 0.0848214253783226, 0.1205357164144516, 0.21875, 0.3035714328289032, 0.46875, 0.5446428656578064, 0.6785714030265808, 0.6964285969734192, 0.7991071343421936, 0.8169642686843872, 0.8839285969734192, 0.8883928656578064, 0.90625, 0.9151785969734192], 'loss': [3.6908915042877197, 3.404642105102539, 3.2527358531951904, 2.935776472091675, 2.499265432357788, 2.092693567276001, 1.5995800495147705, 1.2411328554153442, 1.1196931600570679, 0.7358488440513611, 0.630033016204834, 0.4500384032726288, 0.4775547981262207, 0.3484653830528259, 0.26196882128715515], 'val_Precision': [0.036906853318214417, 0.04034969583153725, 0.04610130935907364, 0.05392450466752052, 0.05403800308704376, 0.05585264414548874, 0.058605797588825226, 0.05770411342382431, 0.060759492218494415, 0.062295082956552505, 0.06438631564378738, 0.06657420098781586, 0.06482106447219849, 0.06808510422706604, 0.0682302787899971], 'val_Recall': [0.4375, 0.625, 0.84375, 0.9375, 0.9479166865348816, 0.9791666865348816, 0.9895833134651184, 0.9791666865348816, 1.0, 0.9895833134651184, 1.0, 1.0, 1.0, 1.0, 1.0], 'val_accuracy': [0.0416666679084301, 0.125, 0.1354166716337204, 0.2604166567325592, 0.40625, 0.5104166865348816, 0.6354166865348816, 0.6979166865348816, 0.8645833134651184, 0.7291666865348816, 0.875, 0.8854166865348816, 0.90625, 0.9375, 0.96875], 'val_loss': [3.461599349975586, 3.358942747116089, 3.1277694702148438, 2.6072280406951904, 2.278270721435547, 1.7143265008926392, 1.3973464965820312, 1.1600226163864136, 0.7168576717376709, 0.8569003939628601, 0.5163267254829407, 0.4661148488521576, 0.4142431318759918, 0.20866195857524872, 0.16713273525238037]}\n",
      "\n",
      "Final Training Loss:  0.26196882128715515\n",
      "Final Training Accuracy:  0.9151785969734192\n",
      "Final Training Precision:  0.06875383853912354\n",
      "Final Training Recall:  1.0\n",
      "Final Validation Loss:  0.16713273525238037\n",
      "Final Validation Accuracy:  0.96875\n",
      "Final Validation Precision:  0.0682302787899971\n",
      "Final Validation Recall:  1.0\n"
     ]
    }
   ],
   "source": [
    "print(hist.history)\n",
    "\n",
    "print(\"\\nFinal Training Loss: \", hist.history['loss'][-1])\n",
    "print(\"Final Training Accuracy: \", hist.history['accuracy'][-1])\n",
    "print(\"Final Training Precision: \", hist.history['Precision'][-1])\n",
    "print(\"Final Training Recall: \", hist.history['Recall'][-1])\n",
    "print(\"Final Validation Loss: \", hist.history['val_loss'][-1])\n",
    "print(\"Final Validation Accuracy: \", hist.history['val_accuracy'][-1])\n",
    "print(\"Final Validation Precision: \", hist.history['val_Precision'][-1])\n",
    "print(\"Final Validation Recall: \", hist.history['val_Recall'][-1])"
   ]
  },
  {
   "cell_type": "code",
   "execution_count": 29,
   "metadata": {},
   "outputs": [
    {
     "data": {
      "image/png": "[encoded data removed]",
      "text/plain": [
       "<Figure size 640x480 with 1 Axes>"
      ]
     },
     "metadata": {},
     "output_type": "display_data"
    }
   ],
   "source": [
    "fig = plt.figure()\n",
    "plt.plot(hist.history['loss'], color='teal', label='loss')\n",
    "plt.plot(hist.history['val_loss'], color='orange', label='val_loss')\n",
    "fig.suptitle('Loss', fontsize=20)\n",
    "plt.legend(loc=\"upper left\")\n",
    "plt.show()"
   ]
  },
  {
   "cell_type": "code",
   "execution_count": 30,
   "metadata": {},
   "outputs": [
    {
     "data": {
      "image/png": "[encoded data removed]",
      "text/plain": [
       "<Figure size 640x480 with 1 Axes>"
      ]
     },
     "metadata": {},
     "output_type": "display_data"
    }
   ],
   "source": [
    "fig = plt.figure()\n",
    "plt.plot(hist.history['accuracy'], color='teal', label='accuracy')\n",
    "plt.plot(hist.history['val_accuracy'], color='orange', label='val_accuracy')\n",
    "fig.suptitle('Accuracy', fontsize=20)\n",
    "plt.legend(loc=\"upper left\")\n",
    "plt.show()"
   ]
  },
  {
   "cell_type": "code",
   "execution_count": null,
   "metadata": {},
   "outputs": [],
   "source": []
  },
  {
   "cell_type": "code",
   "execution_count": 31,
   "metadata": {},
   "outputs": [],
   "source": [
    "pre = Precision()\n",
    "re = Recall()\n",
    "acc = BinaryAccuracy()"
   ]
  },
  {
   "cell_type": "code",
   "execution_count": 32,
   "metadata": {},
   "outputs": [
    {
     "name": "stdout",
     "output_type": "stream",
     "text": [
      "\u001b[1m1/1\u001b[0m \u001b[32m━━━━━━━━━━━━━━━━━━━━\u001b[0m\u001b[37m\u001b[0m \u001b[1m0s\u001b[0m 130ms/step\n"
     ]
    },
    {
     "name": "stderr",
     "output_type": "stream",
     "text": [
      "2024-08-05 22:02:37.962790: W tensorflow/core/framework/local_rendezvous.cc:404] Local rendezvous is aborting with status: OUT_OF_RANGE: End of sequence\n"
     ]
    }
   ],
   "source": [
    "for batch in test.as_numpy_iterator(): \n",
    "    X, y = batch\n",
    "    yhat = model.predict(X)\n",
    "    y_one_hot = tf.one_hot(y, depth=34)\n",
    "    pre.update_state(y_one_hot, yhat)\n",
    "    re.update_state(y_one_hot, yhat)\n",
    "    acc.update_state(y_one_hot, yhat)"
   ]
  },
  {
   "cell_type": "code",
   "execution_count": 33,
   "metadata": {},
   "outputs": [
    {
     "name": "stdout",
     "output_type": "stream",
     "text": [
      "tf.Tensor(0.06490872, shape=(), dtype=float32) tf.Tensor(1.0, shape=(), dtype=float32) tf.Tensor(0.5762868, shape=(), dtype=float32)\n"
     ]
    }
   ],
   "source": [
    "print(pre.result(), re.result(), acc.result())"
   ]
  },
  {
   "cell_type": "code",
   "execution_count": 34,
   "metadata": {},
   "outputs": [
    {
     "name": "stderr",
     "output_type": "stream",
     "text": [
      "WARNING:absl:You are saving your model as an HDF5 file via `model.save()` or `keras.saving.save_model(model)`. This file format is considered legacy. We recommend using instead the native Keras format, e.g. `model.save('my_model.keras')` or `keras.saving.save_model(model, 'my_model.keras')`. \n"
     ]
    }
   ],
   "source": [
    "model.save(os.path.join('models','leafclassifier_v4b.h5'))"
   ]
  },
  {
   "cell_type": "code",
   "execution_count": 35,
   "metadata": {},
   "outputs": [
    {
     "name": "stderr",
     "output_type": "stream",
     "text": [
      "WARNING:absl:Compiled the loaded model, but the compiled metrics have yet to be built. `model.compile_metrics` will be empty until you train or evaluate the model.\n"
     ]
    }
   ],
   "source": [
    "new_model = load_model(os.path.join('models','leafclassifier_v4b.h5'))"
   ]
  },
  {
   "cell_type": "code",
   "execution_count": null,
   "metadata": {},
   "outputs": [],
   "source": []
  },
  {
   "cell_type": "code",
   "execution_count": null,
   "metadata": {},
   "outputs": [],
   "source": []
  }
 ],
 "metadata": {
  "kernelspec": {
   "display_name": "Python 3.10.7 64-bit",
   "language": "python",
   "name": "python3"
  },
  "language_info": {
   "codemirror_mode": {
    "name": "ipython",
    "version": 3
   },
   "file_extension": ".py",
   "mimetype": "text/x-python",
   "name": "python",
   "nbconvert_exporter": "python",
   "pygments_lexer": "ipython3",
   "version": "3.11.9"
  },
  "orig_nbformat": 4,
  "vscode": {
   "interpreter": {
    "hash": "aee8b7b246df8f9039afb4144a1f6fd8d2ca17a180786b69acc140d282b71a49"
   }
  }
 },
 "nbformat": 4,
 "nbformat_minor": 2
}
